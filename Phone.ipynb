{
  "nbformat": 4,
  "nbformat_minor": 0,
  "metadata": {
    "colab": {
      "name": "Untitled0.ipynb",
      "provenance": [],
      "authorship_tag": "ABX9TyOI07AU6ujyi1cRYt6Gnrug",
      "include_colab_link": true
    },
    "kernelspec": {
      "name": "python3",
      "display_name": "Python 3"
    }
  },
  "cells": [
    {
      "cell_type": "markdown",
      "metadata": {
        "id": "view-in-github",
        "colab_type": "text"
      },
      "source": [
        "<a href=\"https://colab.research.google.com/github/ArthurVarteressians/Phone/blob/master/Phone.ipynb\" target=\"_parent\"><img src=\"https://colab.research.google.com/assets/colab-badge.svg\" alt=\"Open In Colab\"/></a>"
      ]
    },
    {
      "cell_type": "code",
      "metadata": {
        "id": "gMmZ_Yv6RvIx"
      },
      "source": [
        "class phone\r\n",
        "{\r\n",
        "private:\r\n",
        "    char name[10];\r\n",
        "    int ram;\r\n",
        "    int cpu;\r\n",
        "    double price;\r\n",
        "\r\n",
        "public:\r\n",
        "    int ret_ram();\r\n",
        "    int ret_cpu();\r\n",
        "    int ret_price();\r\n",
        "    char* ret_name();\r\n",
        "    void input_parametrs();\r\n",
        "    void HardWare();\r\n",
        "};"
      ],
      "execution_count": null,
      "outputs": []
    }
  ]
}