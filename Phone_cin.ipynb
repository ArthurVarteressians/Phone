{
  "nbformat": 4,
  "nbformat_minor": 0,
  "metadata": {
    "colab": {
      "name": "Untitled0.ipynb",
      "provenance": [],
      "authorship_tag": "ABX9TyPdfxPcFWVEHckUUDFp/ukZ",
      "include_colab_link": true
    },
    "kernelspec": {
      "name": "python3",
      "display_name": "Python 3"
    }
  },
  "cells": [
    {
      "cell_type": "markdown",
      "metadata": {
        "id": "view-in-github",
        "colab_type": "text"
      },
      "source": [
        "<a href=\"https://colab.research.google.com/github/ArthurVarteressians/Phone/blob/master/Phone_cin.ipynb\" target=\"_parent\"><img src=\"https://colab.research.google.com/assets/colab-badge.svg\" alt=\"Open In Colab\"/></a>"
      ]
    },
    {
      "cell_type": "code",
      "metadata": {
        "id": "gMmZ_Yv6RvIx"
      },
      "source": [
        "#include <iostream>\r\n",
        "#include \"phone.h\"\r\n",
        "using namespace std;\r\n",
        "\r\n",
        "int phone::ret_ram()\r\n",
        "{\r\n",
        "    return ram;\r\n",
        "}\r\n",
        "int phone::ret_cpu()\r\n",
        "{\r\n",
        "    return cpu;\r\n",
        "}\r\n",
        "int phone::ret_price()\r\n",
        "{\r\n",
        "    return price;\r\n",
        "}\r\n",
        "char* phone::ret_name()\r\n",
        "{\r\n",
        "    return name;\r\n",
        "}\r\n",
        "\r\n",
        "void phone::input_parametrs()\r\n",
        "{\r\n",
        "    cout << \"Name: \";\r\n",
        "    cin >> name;\r\n",
        "    cout << \"RAM: \";\r\n",
        "    cin >> ram;\r\n",
        "    cout << \"CPU: \";\r\n",
        "    cin >> cpu;\r\n",
        "    cout << \"Price: \";\r\n",
        "    cin >> price;\r\n",
        "}\r\n",
        "\r\n",
        "void phone::HardWare()\r\n",
        "{\r\n",
        "    cout << \" Brand name is: \" << name << \"\\n RAM: \" << ram << \"\\n CPU: \" << cpu << \"\\n Price: \" << price << endl;\r\n",
        "}"
      ],
      "execution_count": null,
      "outputs": []
    }
  ]
}