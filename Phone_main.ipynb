{
  "nbformat": 4,
  "nbformat_minor": 0,
  "metadata": {
    "colab": {
      "name": "Untitled0.ipynb",
      "provenance": [],
      "authorship_tag": "ABX9TyPlnPrIQHGPy4L496FvvAUp",
      "include_colab_link": true
    },
    "kernelspec": {
      "name": "python3",
      "display_name": "Python 3"
    }
  },
  "cells": [
    {
      "cell_type": "markdown",
      "metadata": {
        "id": "view-in-github",
        "colab_type": "text"
      },
      "source": [
        "<a href=\"https://colab.research.google.com/github/ArthurVarteressians/Phone/blob/master/Phone_main.ipynb\" target=\"_parent\"><img src=\"https://colab.research.google.com/assets/colab-badge.svg\" alt=\"Open In Colab\"/></a>"
      ]
    },
    {
      "cell_type": "code",
      "metadata": {
        "id": "gMmZ_Yv6RvIx"
      },
      "source": [
        "#include <iostream>\r\n",
        "#include <cstring>\r\n",
        "#include \"phone.h\"\r\n",
        "using namespace std;\r\n",
        "\r\n",
        "void Find(phone* ph, int n);\r\n",
        "\r\n",
        "int main()\r\n",
        "{\r\n",
        "    bool t{};\r\n",
        "    char name[10];\r\n",
        "    int n, k;\r\n",
        "    cout << \"Please enter the number of items(N): \" ;\r\n",
        "    cin >> n;\r\n",
        "    phone* ph = new phone[n];\r\n",
        "    cout << endl << \"Press\\n1 for input\\n2 search for the phone\\n0 for exit.\\n\" << endl << \"Input: \" ;\r\n",
        "    cin >> k;\r\n",
        "    switch (k)\r\n",
        "    {\r\n",
        "    case 1:\r\n",
        "        for (int i = 0; i < n; i++)\r\n",
        "        {\r\n",
        "            (*(ph + i)).input_parametrs();\r\n",
        "        }\r\n",
        "        Find(ph, n);\r\n",
        "        break;\r\n",
        "    case 2:\r\n",
        "        cout << \"Which phone you want to find? \";\r\n",
        "        cin >> name;\r\n",
        "        for (int i = 0; i < n; i++)\r\n",
        "        {\r\n",
        "            if (strcmp(name, ph[i].ret_name()) == 0)\r\n",
        "            {\r\n",
        "                t = 1;\r\n",
        "            }\r\n",
        "        }\r\n",
        "        if (t == 0)\r\n",
        "        {\r\n",
        "            cout << \"There is no such a phone!\";\r\n",
        "        }\r\n",
        "        break;\r\n",
        "    case 0:\r\n",
        "        cout << \"Wrong selection!\";\r\n",
        "        return 0;\r\n",
        "    }\r\n",
        "    delete[] ph;\r\n",
        "    return 0;\r\n",
        "}\r\n",
        "\r\n",
        "void Find(phone* ph, int n)\r\n",
        "{\r\n",
        "    char ch;\r\n",
        "    char name[10];\r\n",
        "    bool isFound = 0;\r\n",
        "    int CPU = 0, RAM = 0;\r\n",
        "    double price;\r\n",
        "    cout << endl << \"Search by (N)ame or lowest (P)rice? \";\r\n",
        "    cin >> ch;\r\n",
        "    if (ch == 'N' || ch == 'n')\r\n",
        "    {\r\n",
        "        cout << endl << \"Enter searching name: \";\r\n",
        "        cin >> name;\r\n",
        "        for (int i = 0; i < n; i++)\r\n",
        "        {\r\n",
        "            if (strcmp(name, (ph + i)->ret_name()) == 0)\r\n",
        "            {\r\n",
        "                (*(ph + i)).HardWare();\r\n",
        "                isFound = 1;\r\n",
        "            }\r\n",
        "        }\r\n",
        "        if (isFound == 0)\r\n",
        "            cout << endl << \"Not found any product by such name! \";\r\n",
        "    }\r\n",
        "    else if (ch == 'P' || ch == 'p')\r\n",
        "    {\r\n",
        "        int ret_price();\r\n",
        "      \r\n",
        "\r\n",
        "        cout << endl << \"The lowest price is: \" << ret_price() << endl;\r\n",
        "    }\r\n",
        "}"
      ],
      "execution_count": null,
      "outputs": []
    }
  ]
}